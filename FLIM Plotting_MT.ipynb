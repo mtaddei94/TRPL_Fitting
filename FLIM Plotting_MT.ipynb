{
 "cells": [
  {
   "cell_type": "code",
   "execution_count": 21,
   "metadata": {},
   "outputs": [],
   "source": [
    "# -*- coding: utf-8 -*-\n",
    "\"\"\"\n",
    "Created on Feb 7 2023\n",
    "\n",
    "@author: mtaddei\n",
    "\"\"\"\n",
    "\n",
    "from matplotlib import *\n",
    "import matplotlib.pyplot as plt\n",
    "from numpy import load\n",
    "from scipy.optimize import curve_fit\n",
    "import pandas as pd\n",
    "import os\n",
    "import numpy as np\n",
    "\n",
    "rcParams['font.family'] = 'sans-serif'  \n",
    "rcParams['font.sans-serif'] = 'Arial'\n",
    "#rcParams['font.sans-serif'] = 'comic sans ms'\n",
    "rcParams['xtick.top'] = 'True'\n",
    "rcParams['xtick.direction'] = 'in'\n",
    "rcParams['ytick.direction'] = 'in'\n",
    "rcParams['ytick.right'] = 'True'\n",
    "rcParams['xtick.major.pad']='4.5'\n",
    "rcParams['ytick.major.pad']='3'\n",
    "rcParams['xtick.minor.visible']= 'True'\n",
    "rcParams['ytick.minor.visible']= 'True'\n",
    "\n",
    "\n",
    "majorsize1 = 3\n",
    "minorsize1 = 2\n",
    "majorwidth1 = 1.5\n",
    "minorwidth1 = 1\n",
    "\n",
    "rcParams['ytick.major.size'] = majorsize1\n",
    "rcParams['ytick.minor.size'] = minorsize1\n",
    "rcParams['ytick.major.width'] = majorwidth1\n",
    "rcParams['ytick.minor.width'] = minorwidth1\n",
    "rcParams['xtick.major.size'] = majorsize1\n",
    "rcParams['xtick.minor.size'] = minorsize1\n",
    "rcParams['xtick.major.width'] = majorwidth1\n",
    "rcParams['xtick.minor.width'] = minorwidth1\n",
    "\n",
    "tickpad1 = 4\n",
    "mylabelpad1 = 2 \n",
    "labelfontsize1 = 8 \n",
    "tickfontsize1 = 8\n",
    "mylinewidth1 = 2\n",
    "letfont1 = 12\n",
    "\n",
    "textparams=dict(ha='right',va='center',xycoords='axes fraction')\n",
    "vpos=.92\n",
    "\n",
    "\n",
    "bluecolor = \"#0165fc\"\n",
    "\n",
    "greencolor=\"#02ab2e\"\n",
    "\n",
    "redcolor='red'"
   ]
  },
  {
   "cell_type": "markdown",
   "metadata": {},
   "source": [
    "stretched exponential fitting function on a single spot"
   ]
  },
  {
   "cell_type": "code",
   "execution_count": 34,
   "metadata": {},
   "outputs": [],
   "source": [
    "from scipy.integrate import odeint\n",
    "from scipy.optimize import differential_evolution\n",
    "from scipy.special import gamma\n",
    "\n",
    "def stretch_exp_fit(TRPL, t, Tc = (0,1e4*1e-9), Beta = (0,1), A = (0,1.5)):\n",
    "\n",
    "    def exp_stretch(t, tc, beta, a):\n",
    "        return ((a * np.exp(-((1.0 / tc) * t) ** beta)))\n",
    "\n",
    "    def avg_tau_from_exp_stretch(tc, beta):\n",
    "        return (tc / beta) * gamma(1.0 / beta)\n",
    "\n",
    "    def Diff_Ev_Fit_SE(TRPL):\n",
    "\n",
    "        def residuals(params):#params are the parameters to be adjusted by differential evolution or leastsq, interp is the data to compare to the model.\n",
    "            #Variable Rates\n",
    "            tc = params[0]\n",
    "            beta = params[1]\n",
    "            a = params[2]\n",
    "\n",
    "\n",
    "            PL_sim = exp_stretch(t,tc,beta,a)\n",
    "\n",
    "            Resid= (np.sum(((PL_sim-TRPL)**2)/(np.sqrt(PL_sim)**2)))\n",
    "            return Resid #returns the difference between the PL data and simulated data\n",
    "\n",
    "        bounds = [Tc, Beta, A]\n",
    "\n",
    "        result = differential_evolution(residuals, bounds)\n",
    "        return result.x\n",
    "\n",
    "    p = Diff_Ev_Fit_SE(TRPL)\n",
    "\n",
    "    tc = p[0]\n",
    "    beta = p[1]\n",
    "    a = p[2]\n",
    "\n",
    "\n",
    "    PL_fit = exp_stretch(t,tc,beta,a)\n",
    "\n",
    "    avg_tau = avg_tau_from_exp_stretch(tc,beta)\n",
    "\n",
    "    return tc, beta, a, avg_tau, PL_fit"
   ]
  },
  {
   "cell_type": "code",
   "execution_count": 22,
   "metadata": {},
   "outputs": [],
   "source": [
    "plotthishistogram=(3,3)"
   ]
  },
  {
   "cell_type": "code",
   "execution_count": 23,
   "metadata": {},
   "outputs": [],
   "source": [
    "intensitypath=r\"C:\\Users\\Margherita\\Downloads\\br25_640nm_0.3MHz16751248161675127584_swabian_intensity_arr.npy\"\n",
    "\n",
    "timepath=r\"C:\\Users\\Margherita\\Downloads\\br25_640nm_0.3MHz16751248161675127584_swabian_time_arr.npy\""
   ]
  },
  {
   "cell_type": "code",
   "execution_count": 24,
   "metadata": {},
   "outputs": [],
   "source": [
    "histarr = load(intensitypath, allow_pickle=True)\n",
    "\n",
    "timearr = load(timepath, allow_pickle=True)"
   ]
  },
  {
   "cell_type": "code",
   "execution_count": 25,
   "metadata": {},
   "outputs": [
    {
     "data": {
      "image/png": "[encoded data removed]",
      "text/plain": [
       "<Figure size 360x252 with 1 Axes>"
      ]
     },
     "metadata": {
      "needs_background": "light"
     },
     "output_type": "display_data"
    }
   ],
   "source": [
    "fig, ax0 = plt.subplots(1,1, figsize=(5, 3.5)) #, gridspec_kw={'width_ratios': [2,1]})\n",
    "fig.subplots_adjust(top=0.985,\n",
    "bottom=0.115,\n",
    "left=0.1,\n",
    "right=0.975,\n",
    "hspace=0.305,\n",
    "wspace=0.335)\n",
    "ax0.plot(timearr[plotthishistogram]*1e-6, histarr[plotthishistogram], linewidth=1.5, color=greencolor)\n",
    "ax0.set_ylabel('intensity', fontsize=12)\n",
    "ax0.set_xlabel('time / us', fontsize=12)\n",
    "#ax0.set_title('CsPbBr$_{3}$ QDs', fontsize=12)\n",
    "#ax0.set_ylim(bottom=0)\n",
    "#ax0.set_xlim(0,1e6)\n",
    "ax0.set_yscale('log')\n"
   ]
  },
  {
   "cell_type": "code",
   "execution_count": 14,
   "metadata": {},
   "outputs": [
    {
     "data": {
      "text/plain": [
       "array([0.000e+00, 1.000e-03, 2.000e-03, ..., 2.997e+00, 2.998e+00,\n",
       "       2.999e+00], dtype=float32)"
      ]
     },
     "execution_count": 14,
     "metadata": {},
     "output_type": "execute_result"
    }
   ],
   "source": [
    "timearr[plotthishistogram]*1e-6"
   ]
  },
  {
   "cell_type": "code",
   "execution_count": 27,
   "metadata": {},
   "outputs": [],
   "source": [
    "time = timearr[plotthishistogram]*1e-6\n",
    "data = histarr[plotthishistogram]\n",
    "max_int = np.argmax(data)\n",
    "    # base=np.mean(data[:max_int])  #### calculate the mean of the ref.\n",
    "    # data = data - base\n",
    "data = data[max_int:]\n",
    "norm_data = []\n",
    "for i in range(len(data)):\n",
    "    norm_data.append((data[i]/np.max(data))) \n",
    "norm_data = np.asarray(norm_data)\n",
    "time = np.asarray(time[max_int:])\n",
    "time = time - time[0]"
   ]
  },
  {
   "cell_type": "code",
   "execution_count": 31,
   "metadata": {},
   "outputs": [
    {
     "data": {
      "image/png": "[encoded data removed]",
      "text/plain": [
       "<Figure size 432x288 with 1 Axes>"
      ]
     },
     "metadata": {
      "needs_background": "light"
     },
     "output_type": "display_data"
    }
   ],
   "source": [
    "plt.plot(time, norm_data, linewidth=1.5, color=greencolor)\n",
    "plt.yscale('log')"
   ]
  },
  {
   "cell_type": "code",
   "execution_count": 62,
   "metadata": {},
   "outputs": [
    {
     "name": "stderr",
     "output_type": "stream",
     "text": [
      "C:\\Users\\Margherita\\Anaconda3\\lib\\site-packages\\ipykernel_launcher.py:24: RuntimeWarning: divide by zero encountered in true_divide\n",
      "C:\\Users\\Margherita\\Anaconda3\\lib\\site-packages\\ipykernel_launcher.py:24: RuntimeWarning: overflow encountered in true_divide\n",
      "C:\\Users\\Margherita\\Anaconda3\\lib\\site-packages\\ipykernel_launcher.py:24: RuntimeWarning: invalid value encountered in true_divide\n",
      "C:\\Users\\Margherita\\Anaconda3\\lib\\site-packages\\ipykernel_launcher.py:8: RuntimeWarning: divide by zero encountered in double_scalars\n",
      "  \n",
      "C:\\Users\\Margherita\\Anaconda3\\lib\\site-packages\\ipykernel_launcher.py:8: RuntimeWarning: invalid value encountered in multiply\n",
      "  \n"
     ]
    }
   ],
   "source": [
    "stretched_A1 = stretch_exp_fit(norm_data, time*1e-6, Tc = (0,4*1e-6), Beta = (0,1), A = (0,1))"
   ]
  },
  {
   "cell_type": "code",
   "execution_count": 63,
   "metadata": {},
   "outputs": [
    {
     "name": "stdout",
     "output_type": "stream",
     "text": [
      "tau_c (ns) = 16.001855042233476\n",
      "Beta = 0.4069798387621434\n",
      "avg. tau (ns) = 50.7384797016832\n"
     ]
    }
   ],
   "source": [
    "print(\"tau_c (ns) = \"+str(stretched_A1[0]*1e9))\n",
    "print(\"Beta = \"+str(stretched_A1[1]))\n",
    "print(\"avg. tau (ns) = \"+str(stretched_A1[3]*1e9))"
   ]
  },
  {
   "cell_type": "code",
   "execution_count": 64,
   "metadata": {},
   "outputs": [
    {
     "data": {
      "text/plain": [
       "<matplotlib.legend.Legend at 0x1d46cde3c48>"
      ]
     },
     "execution_count": 64,
     "metadata": {},
     "output_type": "execute_result"
    },
    {
     "data": {
      "image/png": "[encoded data removed]",
      "text/plain": [
       "<Figure size 432x288 with 1 Axes>"
      ]
     },
     "metadata": {
      "needs_background": "light"
     },
     "output_type": "display_data"
    }
   ],
   "source": [
    "plt.plot(time, norm_data, linewidth=1.5, color=greencolor)\n",
    "plt.plot(time, stretched_A1[4], 'm--', lw = 2, label=\"A1 stretched  fit\")\n",
    "plt.yscale('log')\n",
    "plt.legend()\n"
   ]
  },
  {
   "cell_type": "markdown",
   "metadata": {},
   "source": [
    "Going through the FLIM map and getting a map opf stretched lifetimes and beta values"
   ]
  },
  {
   "cell_type": "code",
   "execution_count": 65,
   "metadata": {},
   "outputs": [],
   "source": [
    "# -*- coding: utf-8 -*-\n",
    "\"\"\"\n",
    "Created on Fri Oct  7 21:05:15 2022\n",
    "\n",
    "@author: kguye\n",
    "\"\"\"\n",
    "###User Data Entry###\n",
    "data_folder = r'C:\\Users\\Margherita\\Downloads' #where is the data stored\n",
    "save_folder = r'C:\\Users\\Margherita\\Downloads' #where do you want files saved\n",
    "save = True #do you want to save images (yes = True; no = False)\n",
    "###No User Entry Below###"
   ]
  },
  {
   "cell_type": "code",
   "execution_count": 66,
   "metadata": {},
   "outputs": [],
   "source": [
    "def stretch_exp(t, tau, a, b):\n",
    "    y = a * np.exp(-(t/tau)**b)\n",
    "    return y\n",
    "def stretch_exp_fit(df, fun, p0):\n",
    "    time = df.iloc[:,0]\n",
    "    data = df.iloc[:,1]\n",
    "    max_int = data.idxmax()\n",
    "    # base=np.mean(data[:max_int])  #### calculate the mean of the ref.\n",
    "    # data = data - base\n",
    "    data = data[max_int:]\n",
    "    norm_data = []\n",
    "    for i in range(len(data)):\n",
    "        norm_data.append((data.iloc[i]/max(data))) \n",
    "    norm_data = np.asarray(norm_data)\n",
    "    time = np.asarray(time.iloc[max_int:])\n",
    "    time = time - time[0]\n",
    "    params, params_cov = curve_fit(fun, time, norm_data)\n",
    "    # plt.plot(time, norm_data, label='Raw Data', c='black')\n",
    "    # plt.plot(time, fun(time, params[0], params[1], params[2]), c='red', label=\"Fit\")\n",
    "    # plt.legend()\n",
    "    # print('Tau: ' + str(params[0]))\n",
    "    # print('a: ' + str(params[1]))\n",
    "    # print('b: ' + str(params[2]))\n",
    "    return time, norm_data, params"
   ]
  },
  {
   "cell_type": "code",
   "execution_count": 67,
   "metadata": {},
   "outputs": [
    {
     "name": "stderr",
     "output_type": "stream",
     "text": [
      "C:\\Users\\Margherita\\Anaconda3\\lib\\site-packages\\ipykernel_launcher.py:2: RuntimeWarning: divide by zero encountered in power\n",
      "  \n"
     ]
    },
    {
     "name": "stdout",
     "output_type": "stream",
     "text": [
      "\n",
      "Mean:  0.5101549611102134\n",
      "\n",
      "std:  0.01583464672062053\n",
      "\n",
      "Mean:  23.575835035997475\n",
      "\n",
      "std:  4.133081949822004\n",
      "\n",
      "Mean:  0.474862033217145\n",
      "\n",
      "std:  0.011017776133296868\n",
      "\n",
      "Mean:  32.62778285575498\n",
      "\n",
      "std:  3.451294360849994\n"
     ]
    },
    {
     "data": {
      "image/png": "[encoded data removed]",
      "text/plain": [
       "<Figure size 432x288 with 2 Axes>"
      ]
     },
     "metadata": {
      "needs_background": "light"
     },
     "output_type": "display_data"
    },
    {
     "data": {
      "image/png": "[encoded data removed]",
      "text/plain": [
       "<Figure size 432x288 with 2 Axes>"
      ]
     },
     "metadata": {
      "needs_background": "light"
     },
     "output_type": "display_data"
    },
    {
     "data": {
      "image/png": "[encoded data removed]",
      "text/plain": [
       "<Figure size 432x288 with 2 Axes>"
      ]
     },
     "metadata": {
      "needs_background": "light"
     },
     "output_type": "display_data"
    },
    {
     "data": {
      "image/png": "[encoded data removed]",
      "text/plain": [
       "<Figure size 432x288 with 2 Axes>"
      ]
     },
     "metadata": {
      "needs_background": "light"
     },
     "output_type": "display_data"
    }
   ],
   "source": [
    "samples = np.array([])\n",
    "for i in range(len(os.listdir(data_folder))):\n",
    "    if'swabian_time_arr.npy' in os.listdir(data_folder)[i]:\n",
    "        sample = os.listdir(data_folder)[i]\n",
    "        sample = sample[:sample.index('_swabian')]\n",
    "        samples = np.append(samples, sample)\n",
    "idx = 0\n",
    "for r in range(len(samples)):\n",
    "    time = data_folder + '/' + samples[r] + '_swabian_time_arr.npy'\n",
    "    intensity = data_folder + '/' + samples[r] + '_swabian_intensity_arr.npy'\n",
    "    time = np.load(time, allow_pickle=True)\n",
    "    intensity = np.load(intensity,allow_pickle=True)\n",
    "        \n",
    "    px,py = time.shape\n",
    "    B_values = np.zeros((px,py))\n",
    "    t_values = np.zeros((px,py))\n",
    "    \n",
    "    for i in range(px):\n",
    "        for j in range(py):\n",
    "            df = pd.DataFrame({'Time':time[i,j]/1000,'Intensity':(intensity[i,j])})\n",
    "            time_stretch_1, norm_data_stretch_1, params = stretch_exp_fit(df, stretch_exp, [1, 0.2, 10])\n",
    "            B_values[i,j] = params[2]\n",
    "            t_values[i,j] = params[0]\n",
    "    \n",
    "    plt.figure(idx+1)\n",
    "    plt.imshow(B_values,extent = [-0.5,4.5,-0.5,4.5],cmap = 'viridis')\n",
    "    plt.xlabel('x pixel')\n",
    "    plt.ylabel('y pixel')\n",
    "    cbar = plt.colorbar()\n",
    "    cbar.set_label(r'$\\beta$',fontsize = 12)\n",
    "    if save == True:\n",
    "        plt.figure(idx+1)\n",
    "        plt.savefig(save_folder+'/'+samples[r]+' beta values.png',dpi=300,bbox_inches = \"tight\")\n",
    "        \n",
    "    plt.figure(idx+2)\n",
    "    plt.imshow(t_values,extent = [-0.5,4.5,-0.5,4.5], cmap = 'viridis')\n",
    "    plt.xlabel('x pixel')\n",
    "    plt.ylabel('y pixel')\n",
    "    cbar = plt.colorbar()\n",
    "    cbar.set_label(r'$\\tau$'+' (ns)',fontsize=12)\n",
    "    if save == True:\n",
    "        plt.figure(idx+2)\n",
    "        plt.savefig(save_folder+'/'+samples[r]+' tau values.png',dpi=300,bbox_inches = \"tight\")\n",
    "    idx = idx + 100\n",
    "    \n",
    "    r1 = np.mean(B_values)\n",
    "    print(\"\\nMean: \", r1)\n",
    "    r2 = np.std(B_values)\n",
    "    print(\"\\nstd: \", r2)\n",
    "    r1 = np.mean(t_values)\n",
    "    print(\"\\nMean: \", r1)\n",
    "    r2 = np.std(t_values)\n",
    "    print(\"\\nstd: \", r2)"
   ]
  },
  {
   "cell_type": "code",
   "execution_count": null,
   "metadata": {},
   "outputs": [],
   "source": []
  }
 ],
 "metadata": {
  "kernelspec": {
   "display_name": "Python 3",
   "language": "python",
   "name": "python3"
  },
  "language_info": {
   "codemirror_mode": {
    "name": "ipython",
    "version": 3
   },
   "file_extension": ".py",
   "mimetype": "text/x-python",
   "name": "python",
   "nbconvert_exporter": "python",
   "pygments_lexer": "ipython3",
   "version": "3.7.4"
  },
  "vscode": {
   "interpreter": {
    "hash": "b0fa6594d8f4cbf19f97940f81e996739fb7646882a419484c72d19e05852a7e"
   }
  }
 },
 "nbformat": 4,
 "nbformat_minor": 5
}
